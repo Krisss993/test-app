{
 "cells": [
  {
   "cell_type": "code",
   "execution_count": 1,
   "id": "3ab9f29d-7280-4d63-8cc3-f97d8bc4f4eb",
   "metadata": {},
   "outputs": [
    {
     "name": "stderr",
     "output_type": "stream",
     "text": [
      "USER_AGENT environment variable not set, consider setting it to identify your requests.\n"
     ]
    }
   ],
   "source": [
    "from langchain_core.prompts import ChatPromptTemplate, MessagesPlaceholder, HumanMessagePromptTemplate\n",
    "from langchain_core.output_parsers import StrOutputParser\n",
    "from langchain_groq import ChatGroq\n",
    "import os\n",
    "from dotenv import load_dotenv, find_dotenv\n",
    "from langchain_chroma import Chroma\n",
    "from langchain.text_splitter import RecursiveCharacterTextSplitter\n",
    "from langchain_community.document_loaders import TextLoader\n",
    "from langchain_core.runnables import RunnablePassthrough\n",
    "\n",
    "import bs4\n",
    "from langchain import hub\n",
    "from langchain_huggingface import HuggingFaceEmbeddings\n",
    "from langchain_community.document_loaders import WebBaseLoader\n",
    "from langchain_community.document_loaders import TextLoader\n",
    "\n",
    "from langchain.chains import create_retrieval_chain\n",
    "from langchain.chains.combine_documents import create_stuff_documents_chain\n",
    "from langchain_huggingface import HuggingFaceEmbeddings"
   ]
  },
  {
   "cell_type": "code",
   "execution_count": 2,
   "id": "097aba27-8f1d-484f-8710-aac25f56f968",
   "metadata": {},
   "outputs": [],
   "source": [
    "_ = load_dotenv(find_dotenv())\n",
    "\n",
    "groq_api_key = os.environ['GROQ_API_KEY']"
   ]
  },
  {
   "cell_type": "code",
   "execution_count": 3,
   "id": "58e737b8-f145-4f65-bef6-0c1ff0fcd082",
   "metadata": {},
   "outputs": [],
   "source": [
    "llm = ChatGroq()"
   ]
  },
  {
   "cell_type": "code",
   "execution_count": 4,
   "id": "2738d951-ea61-4e56-95ff-ec9f35b199c9",
   "metadata": {},
   "outputs": [
    {
     "name": "stderr",
     "output_type": "stream",
     "text": [
      "D:\\Programs\\Python\\Python312\\Lib\\site-packages\\sentence_transformers\\cross_encoder\\CrossEncoder.py:11: TqdmExperimentalWarning: Using `tqdm.autonotebook.tqdm` in notebook mode. Use `tqdm.tqdm` instead to force console mode (e.g. in jupyter console)\n",
      "  from tqdm.autonotebook import tqdm, trange\n"
     ]
    }
   ],
   "source": [
    "loader = TextLoader('./docS.txt', encoding='utf-8')\n",
    "docs = loader.load()\n",
    "\n",
    "text_splitter = RecursiveCharacterTextSplitter(chunk_size=1000, chunk_overlap=100)\n",
    "\n",
    "chunks = text_splitter.split_documents(docs)\n",
    "\n",
    "embeddings = HuggingFaceEmbeddings(model_name=\"BAAI/bge-small-en-v1.5\")\n",
    "\n",
    "vectorstore = Chroma.from_documents(chunks, embeddings)\n",
    "\n",
    "retriever = vectorstore.as_retriever()\n",
    "\n",
    "system_prompt = '''\n",
    "'You are an assistant for question answering.\n",
    "Use the following pieces of retrieved context to answer\n",
    "{context}\n",
    "'''\n",
    "\n",
    "prompt = ChatPromptTemplate.from_messages(\n",
    "    [\n",
    "        ('system',system_prompt),\n",
    "        ('human','{input}')\n",
    "    ]\n",
    ")\n"
   ]
  },
  {
   "cell_type": "code",
   "execution_count": 5,
   "id": "ba799d7d-875e-44b8-ac1e-91183cb660bc",
   "metadata": {},
   "outputs": [],
   "source": [
    "qa_chain = create_stuff_documents_chain(llm, prompt)\n",
    "\n",
    "rag_chain = create_retrieval_chain(retriever, qa_chain)\n",
    "\n",
    "output = rag_chain.invoke({'input':'What are these articles about?'})"
   ]
  },
  {
   "cell_type": "code",
   "execution_count": 6,
   "id": "21b88b52-dec9-4566-bd35-2f8bcfa9492a",
   "metadata": {},
   "outputs": [
    {
     "data": {
      "text/plain": [
       "'These articles appear to be describing a fantasy world, featuring characters such as Zwinka, Wyndle, and a cesarz. The setting includes magical elements, such as a \"bańka mocy\" (sphere of power) surrounding Zwinka, and her ability to emit light and use \"wspaniałość\" (grace/beauty) to affect her surroundings. There are also mentions of magical creatures, like \"wiatrospren\" (small wind spirits) and \"ostrołań\" (large, thin, four-legged creatures). The characters seem to be on a journey through this world, encountering various obstacles such as trees, rocks, and fields of tall grass. Zwinka is established as different from the other characters because she is a \"zdechlak\" (dead thing), which in this context seems to mean that she is not affected by the passage of time and does not want to be tied down by relationships or familiar places. There is also a sense of tension or conflict, as Zwinka has left the cesarz without telling him and Wyndle is concerned about her well-being. Overall, these articles appear to be part of a larger narrative set in a fantastical world.'"
      ]
     },
     "execution_count": 6,
     "metadata": {},
     "output_type": "execute_result"
    }
   ],
   "source": [
    "output['answer']"
   ]
  },
  {
   "cell_type": "code",
   "execution_count": 7,
   "id": "5f56038a-2888-4014-80dc-a2b58923f852",
   "metadata": {},
   "outputs": [],
   "source": [
    "from langchain.chains import create_history_aware_retriever\n",
    "from langchain_core.prompts import MessagesPlaceholder\n",
    "\n",
    "contextualize_q_system_prompt = (\n",
    "    \"Given a chat history and the latest user question \"\n",
    "    \"which might reference context in the chat history, \"\n",
    "    \"formulate a standalone question which can be understood \"\n",
    "    \"without the chat history. Do NOT answer the question, \"\n",
    "    \"just reformulate it if needed and otherwise return it as is.\"\n",
    ")\n",
    "\n",
    "contextualize_q_prompt = ChatPromptTemplate.from_messages(\n",
    "    [\n",
    "        (\"system\", contextualize_q_system_prompt),\n",
    "        MessagesPlaceholder(\"chat_history\"),\n",
    "        (\"human\", \"{input}\"),\n",
    "    ]\n",
    ")\n",
    "\n",
    "history_aware_retriever = create_history_aware_retriever(\n",
    "    llm, retriever, contextualize_q_prompt\n",
    ")"
   ]
  },
  {
   "cell_type": "code",
   "execution_count": 8,
   "id": "65a5b216-7a2f-478f-8547-70bca52d981a",
   "metadata": {},
   "outputs": [],
   "source": [
    "from langchain.chains import create_retrieval_chain\n",
    "from langchain.chains.combine_documents import create_stuff_documents_chain\n",
    "\n",
    "qa_prompt = ChatPromptTemplate.from_messages(\n",
    "    [\n",
    "        (\"system\", system_prompt),\n",
    "        MessagesPlaceholder(\"chat_history\"),\n",
    "        (\"human\", \"{input}\"),\n",
    "    ]\n",
    ")\n",
    "\n",
    "\n",
    "question_answer_chain = create_stuff_documents_chain(llm, qa_prompt)\n",
    "\n",
    "rag_chain = create_retrieval_chain(history_aware_retriever, question_answer_chain)"
   ]
  },
  {
   "cell_type": "code",
   "execution_count": 9,
   "id": "f85b0b04-f31b-4a0f-beb2-77b8e35ed33f",
   "metadata": {},
   "outputs": [
    {
     "name": "stdout",
     "output_type": "stream",
     "text": [
      "Your previous question was \"What is this article about?\"\n",
      "User asked to provide the summary of the article and the context provided is from a fantasy story about a character named Zwinka who has some special abilities, she left a palace and being followed by a Pustkowec named Wyndle. Zwinka has some injury but she still moves forward and leaving a trail of uprooted trees and other destruction behind her.\n"
     ]
    }
   ],
   "source": [
    "from langchain_core.messages import AIMessage, HumanMessage\n",
    "\n",
    "chat_history = []\n",
    "\n",
    "question = \"What is this article about?\"\n",
    "\n",
    "ai_msg_1 = rag_chain.invoke({\"input\": question, \"chat_history\": chat_history})\n",
    "\n",
    "chat_history.extend(\n",
    "    [\n",
    "        HumanMessage(content=question),\n",
    "        AIMessage(content=ai_msg_1[\"answer\"]),\n",
    "    ]\n",
    ")\n",
    "\n",
    "second_question = \"What was my previous question about?\"\n",
    "\n",
    "ai_msg_2 = rag_chain.invoke({\"input\": second_question, \"chat_history\": chat_history})\n",
    "\n",
    "print(ai_msg_2[\"answer\"])"
   ]
  },
  {
   "cell_type": "code",
   "execution_count": 10,
   "id": "5c933322-cdfa-4e10-854c-76f0f8b64400",
   "metadata": {},
   "outputs": [],
   "source": [
    "from langchain_community.chat_message_histories import ChatMessageHistory\n",
    "from langchain_core.chat_history import BaseChatMessageHistory\n",
    "from langchain_core.runnables.history import RunnableWithMessageHistory\n",
    "\n",
    "store = {}\n",
    "\n",
    "\n",
    "def get_session_history(session_id: str) -> BaseChatMessageHistory:\n",
    "    if session_id not in store:\n",
    "        store[session_id] = ChatMessageHistory()\n",
    "    return store[session_id]\n",
    "\n",
    "\n",
    "conversational_rag_chain = RunnableWithMessageHistory(\n",
    "    rag_chain,\n",
    "    get_session_history,\n",
    "    input_messages_key=\"input\",\n",
    "    history_messages_key=\"chat_history\",\n",
    "    output_messages_key=\"answer\",\n",
    ")"
   ]
  },
  {
   "cell_type": "code",
   "execution_count": 11,
   "id": "e10ac145-982d-458b-b183-77a6bef1d242",
   "metadata": {},
   "outputs": [
    {
     "name": "stderr",
     "output_type": "stream",
     "text": [
      "Error in RootListenersTracer.on_chain_end callback: KeyError('answer')\n",
      "Error in callback coroutine: KeyError('answer')\n"
     ]
    },
    {
     "data": {
      "text/plain": [
       "'This article appears to be a fantasy story about a character named Zwinka who has the ability to emit light and energy from her skin. She has left a palace and is traveling with a being named Wyndle, who is a Pustkowec, which may be a type of creature or being. Zwinka has the ability to topple trees and move quickly, and she seems to be resistant to being captured or constrained. She has a distant and independent personality, and she is wary of the people she encounters, believing that they may intend to harm her. The article includes descriptions of the landscape and other characters that Zwinka and Wyndle encounter on their journey. It is not clear what the overall plot or conflict of the story is.'"
      ]
     },
     "execution_count": 11,
     "metadata": {},
     "output_type": "execute_result"
    }
   ],
   "source": [
    "conversational_rag_chain.invoke(\n",
    "    {\"input\": \"What is this article about?\"},\n",
    "    config={\n",
    "        \"configurable\": {\"session_id\": \"001\"}\n",
    "    },  # constructs a key \"001\" in `store`.\n",
    ")[\"answer\"]"
   ]
  },
  {
   "cell_type": "code",
   "execution_count": 13,
   "id": "5dbe8d41-da83-41ed-b422-933502e9ad49",
   "metadata": {},
   "outputs": [
    {
     "name": "stderr",
     "output_type": "stream",
     "text": [
      "Error in RootListenersTracer.on_chain_end callback: KeyError('answer')\n",
      "Error in callback coroutine: KeyError('answer')\n"
     ]
    },
    {
     "data": {
      "text/plain": [
       "{'input': 'What was my previous question about?',\n",
       " 'chat_history': [HumanMessage(content='What is this article about?'),\n",
       "  AIMessage(content='This article appears to be a fantasy story about a character named Zwinka who has the ability to emit light and energy from her skin. She has left a palace and is traveling with a being named Wyndle, who is a Pustkowec, which may be a type of creature or being. Zwinka has the ability to topple trees and move quickly, and she seems to be resistant to being captured or constrained. She has a distant and independent personality, and she is wary of the people she encounters, believing that they may intend to harm her. The article includes descriptions of the landscape and other characters that Zwinka and Wyndle encounter on their journey. It is not clear what the overall plot or conflict of the story is.'),\n",
       "  HumanMessage(content='What was my previous question about?'),\n",
       "  AIMessage(content='Your previous question asked for a summary of the content provided, and specifically asked \"What is this article about?\" You were seeking a general explanation of the main topic or theme of the text. I provided a summary of the events and characters described in the text, and noted that it is not clear what the overall plot or conflict of the story is.')],\n",
       " 'context': [Document(metadata={'source': './docS.txt'}, page_content='nawet słoneczny blask spływa z jej skóry. Była między miejscami, tutaj, a\\njednak nie. Żadnego powietrza, żadnej ziemi. Jedynie czysty ruch, tak szybki,\\nże dotarła do trawy, zanim ta zdążyła się schować. Źdźbła ją opływały, jej\\nmoc je odpychała.\\nSkóra Zwinki zaczęła emanować blaskiem, z jej ciała wznosiły się\\npasma światła jak smużki dymu. Ze śmiechem dotarła do podnóża\\nwzniesienia i wskoczyła na skały.\\nI wpadła na kolejne drzewo.\\nOtaczająca ją bańka mocy pękła. Drzewo się przewróciło – a na\\ndokładkę to samo zrobiły dwa obok.\\nKiedy Wyndle ją dogonił, uśmiechała się głupkowato i wpatrywała w\\nsłońce. Leżała wyciągnięta na pniu drzewa z rękami wplecionymi w jego\\ngałęzie, a nad nią krążył samotny chwałospren w kształcie złotej kuli.\\n– Panienko? Och, panienko. Byłaś szczęśliwa w pałacu. Widziałem to!\\nNie odpowiedziała.\\n– A cesarz – mówił dalej Wyndle. – Będzie za tobą tęsknił! Nawet mu\\nnie powiedziałaś, że odchodzisz!\\n– Zostawiłam mu wiadomość.\\n– Wiadomość? Nauczyłaś się pisać?'),\n",
       "  Document(metadata={'source': './docS.txt'}, page_content='– Same kłamstwa. – Oparła dłonie na biodrach. – Żebym nie zauważyła\\nprawdy. Zamierzali mnie zjeść.\\nWyndle zaczął się jąkać. Jak na Pustkowca nie był wcale taki\\nprzerażający. Pewnie był... tym Pustkowcem, z którego wszyscy inni się\\nwyśmiewali, bo nosił dziwaczne kapelusze. Takim, który poprawiał\\nwszystkich pozostałych i wyjaśniał, po który widelec powinni sięgnąć, kiedy\\nzasiadali do jedzenia ludzkich dusz.\\n– Panienko, ludzie nie jedzą innych ludzi. Byłaś gościem!\\n– Ale dlaczego? Dawali mi za dużo wszystkiego.\\n– Ocaliłaś życie cesarza!\\n– Co powinno wystarczyć na parę dni jedzenia na cudzy koszt. Raz\\nwyciągnęłam jednego gościa z więzienia, a on pozwolił mi przesiedzieć pięć\\ndni w swojej melinie i jeszcze dał mi ładną chusteczkę. To było szczodre.\\nAzirczycy, którzy pozwolili mi zostać, jak długo chciałam? – Pokręciła\\ngłową. – Czegoś ode mnie chcieli. Jest tylko jedno wyjaśnienie. Zamierzali\\nmnie głodowo zjeść.\\n– Ale...\\nZwinka znów ruszyła biegiem. Dotykanie stopami zimnego kamienia'),\n",
       "  Document(metadata={'source': './docS.txt'}, page_content='Wepchnęła drugi koniec chusteczki do ust i zaczęła go ssać.\\nRuszyli dalej przy akompaniamencie westchnień Wyndle’a, który\\nmamrotał o ogrodnictwie i swoim żałosnym życiu. Z pewnością był dziwnym\\nPustkowcem. Właściwie, jak się nad tym zastanowić, nigdy nie wydawał się\\nzainteresowany pochłanianiem ludzkich dusz. Może był wegetarianinem?\\nPrzeszli przez niewielki zagajnik. Te drzewa nie były zdechlakami –\\ntamte rosły w niewielkich grupach, ale każde z dala od pozostałych. Te tutaj\\nłączyły się gałęziami, tworząc gęstą splecioną ścianę, która stawiała opór\\narcyburzom.\\nI tak właśnie było, prawda? Wszyscy pozostali splatali razem gałęzie.\\nWspierali się nawzajem. Ale Zwinka była zdechlakiem. Nie splatać się, nie\\ndać się pochwycić. Iść swoją drogą.\\nTaka właśnie była, zdecydowanie. Oczywiście z tego powodu musiała\\nopuścić pałac. Nie mogła przez całe życie codziennie widzieć tych samych\\nrzeczy. Musiała się ruszać, bo inaczej ludzie by ją poznali, a później zaczęli'),\n",
       "  Document(metadata={'source': './docS.txt'}, page_content='znalazłaby się inna dziewczyna? Podobna z twarzy, ale poza tym całkiem\\nnowa?\\nPróbowała znów użyć wspaniałości. W pałacu mówili o odzyskaniu\\ndawnych mocy. Świetlistych Rycerzach. Wiązaniu Mocy, sił natury.\\nBędę pamiętać tych, którzy zostali zapomniani, pomyślała.\\nZwinka dzięki swojej mocy okryła się Śliskością, a później przez kilka\\nstóp ślizgała się po ziemi, po czym przekoziołkowała i przetoczyła się po\\ntrawie.\\nUderzyła pięścią w kamienie. Głupia ziemia. Głupia wspaniałość. Jak\\nmogła utrzymać się w pozycji pionowej, kiedy jej stopy ślizgały się, jakby\\npokrywała je warstwa oliwy? Powinna wrócić do wiosłowania na kolanach.\\nTo było o wiele prostsze. W ten sposób zachowywała równowagę, a rękami\\nsterowała. Jak mały krab biegający we wszystkie strony.\\n„Oni byli eleganckimi i pięknymi istotami”, powiedział Ciemność.\\n„Mogli biec po najcieńszej linie, tańczyć na dachach, poruszać się na polu\\nbitwy jak wstążka na wietrze...”.\\nCiemność, mroczny mężczyzna, który ją gonił, powiedział tak w')],\n",
       " 'answer': 'Your previous question was \"What is this article about?\" You were asking for a summary of the content provided and wanted to know what the main topic or theme of the text is. I provided a summary of the events and characters described in the text, and noted that it is not clear what the overall plot or conflict of the story is.'}"
      ]
     },
     "execution_count": 13,
     "metadata": {},
     "output_type": "execute_result"
    }
   ],
   "source": [
    "conversational_rag_chain.invoke(\n",
    "    {\"input\": \"What was my previous question about?\"},\n",
    "    config={\"configurable\": {\"session_id\": \"001\"}},\n",
    ")"
   ]
  },
  {
   "cell_type": "code",
   "execution_count": 25,
   "id": "825c4f0a-86be-4cc0-b7c5-532a28755dfd",
   "metadata": {},
   "outputs": [
    {
     "name": "stdout",
     "output_type": "stream",
     "text": [
      "User: What is this article about?\n",
      "\n",
      "AI: This article appears to be a description of a character named Zwinka who has special abilities, such as emitting light and causing objects to move without touching them. She is leaving a palace and is accompanied by a character named Wyndle. Zwinka is different from the other inhabitants of the palace, who are referred to as \"Pustkowce\" and \"zdechlakami,\" and she prefers to be independent and not be limited to seeing the same things every day. The setting includes natural elements like sunlight, grass, trees, and a creature called a \"chwałospren.\" The atmosphere is contemplative and slightly melancholic, with Wyndle expressing concern for Zwinka's well-being and reminiscing about her happy past in the palace. The style is poetic and imaginative, with vivid sensory language and metaphors. The topic of the article could be described as a portrait of a unique individual who seeks freedom and self-expression in a magical and mysterious world.\n",
      "\n",
      "User: What was my previous question about?\n",
      "\n",
      "AI: Your previous question was \"What is this article about?\" You asked for a summary or a description of the topic of a piece of text that I provided. The text appears to be a narrative or a descriptive passage from a fictional work, as it contains fantastical elements and a distinctive voice. It is possible that this text is an excerpt from a novel, a short story, or a poem.\n",
      "\n"
     ]
    }
   ],
   "source": [
    "for message in store[\"001\"].messages:\n",
    "    if isinstance(message, AIMessage):\n",
    "        prefix = \"AI\"\n",
    "    else:\n",
    "        prefix = \"User\"\n",
    "\n",
    "    print(f\"{prefix}: {message.content}\\n\")"
   ]
  },
  {
   "cell_type": "code",
   "execution_count": null,
   "id": "bba58f25-0ff2-41cc-a71d-707caf93fdc9",
   "metadata": {},
   "outputs": [],
   "source": []
  }
 ],
 "metadata": {
  "kernelspec": {
   "display_name": "Python 3 (ipykernel)",
   "language": "python",
   "name": "python3"
  },
  "language_info": {
   "codemirror_mode": {
    "name": "ipython",
    "version": 3
   },
   "file_extension": ".py",
   "mimetype": "text/x-python",
   "name": "python",
   "nbconvert_exporter": "python",
   "pygments_lexer": "ipython3",
   "version": "3.12.0"
  }
 },
 "nbformat": 4,
 "nbformat_minor": 5
}
